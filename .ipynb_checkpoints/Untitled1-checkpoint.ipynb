{
 "cells": [
  {
   "cell_type": "markdown",
   "metadata": {
    "slideshow": {
     "slide_type": "-"
    }
   },
   "source": [
    "# Website Search"
   ]
  },
  {
   "cell_type": "markdown",
   "metadata": {},
   "source": [
    "  By Using Gensim package, I develop a easy website search tool：gensim_query.\n",
    "Which need user give seedcorpus,seedindex before running. and then after giving query sentences(words).\n",
    "It will output 10 most similar News(order by similarities of themselves)."
   ]
  },
  {
   "cell_type": "markdown",
   "metadata": {},
   "source": [
    "Step 1. Reload some Packages"
   ]
  },
  {
   "cell_type": "code",
   "execution_count": 3,
   "metadata": {
    "collapsed": true
   },
   "outputs": [],
   "source": [
    "import sys                                                                                                                  \n",
    "reload(sys)                                                                                                                 \n",
    "sys.setdefaultencoding(\"utf-8\")                                                                                             \n",
    "import os                                                                                                                   \n",
    "import jieba                                                                                                                \n",
    "import getopt                                                                                                               \n",
    "import logging                                                                                                              \n",
    "from gensim import corpora, similarities, models                                                                            \n",
    "logging.basicConfig(format='%(asctime)s: %(levelname)s: %(message)s', level=logging.INFO) "
   ]
  },
  {
   "cell_type": "markdown",
   "metadata": {},
   "source": [
    "Step 2. Define gensim_query"
   ]
  },
  {
   "cell_type": "markdown",
   "metadata": {},
   "source": [
    "def gensimquery(indexpath, corpuspath, sentence, numbest, threshold)"
   ]
  },
  {
   "cell_type": "code",
   "execution_count": 6,
   "metadata": {
    "collapsed": true
   },
   "outputs": [],
   "source": [
    "def gensimquery(indexpath, corpuspath, sentence, numbest, threshold):\n",
    "    \n",
    "    indexdict    = Txt2Dict(indexpath)\n",
    "    stopword     = \"/home/aaa/py_tools/stopwords.txt\"     #stopword dictionary\n",
    "    punctuation  = \"/home/aaa/py_tools/punctuations.txt\"  # punctuation dictionary\n",
    "    Stopwords    = set([word.decode('utf-8') for word in open(stopword).read().split('\\n')])      # Reload stopwords.txt\n",
    "    Punctuations = set([word.decode('utf-8') for word in open(punctuation).read().split('\\n')])   # Reload punctuations.txt\n",
    "    texts        = jieba.cut(sentence)\n",
    "    texts        = [word.strip() for word in texts if not word in Stopwords]   # texts filtered stopwords\n",
    "    texts        = [word.strip() for word in texts if not word in Punctuations]   # texts filtered punctuations\n",
    "\n",
    "    indexlist = ReadColumn(indexpath, 0) # Read Index of Seeds\n",
    "    # Read Corpus when needed !\n",
    "    class ReadCorpus(object):\n",
    "        def __iter__(self):\n",
    "            for line in open(corpuspath):\n",
    "                yield line.split()\n",
    "\n",
    "    corp        = ReadCorpus()  # Read corpus as Corp\n",
    "    dictionary  = corpora.Dictionary(corp) # Create dictionary\n",
    "    corpus      = [dictionary.doc2bow(text) for text in corp] # get bag-of-word\n",
    "    tfidf       =  models.TfidfModel(corpus)   # Create TF-IDF Model\n",
    "    corpus_tfidf= tfidf[corpus]\n",
    "    # Calculate Similarities \n",
    "    index       = similarities.Similarity('/home/aaa/index',corpus,num_features = len(dictionary))\n",
    "    index.num_best = numbest\n",
    "    querybow    = dictionary.doc2bow(texts)\n",
    "    print querybow\n",
    "    outquery    = dict(index[querybow])\n",
    "    if len(outquery.values()) >= 1:\n",
    "        maxvalue    = max(outquery.values())\n",
    "        outindex    = dict([(key, value) for key, value in outquery.items() if value >= (maxvalue-threshold)])\n",
    "        print \"outquery--------------------\"\n",
    "        print outquery\n",
    "        print \"outindex--------------------\"\n",
    "        print outindex\n",
    "        print \"indexlist-------------------\"\n",
    "        print indexlist\n",
    "        print \"indexdict-------------------\"\n",
    "        print indexdict\n",
    "        outquery    = open(\"/home/aaa/hd/search.txt\", 'w')\n",
    "        for k1, v1 in outindex.items():\n",
    "            outquery.write(\"%s \\t\" % k1)\n",
    "            print k1\n",
    "            outquery.write(\"%s \\t\" % outindex[k1])\n",
    "            tmp = \" \".join(str(a) for a in indexdict[indexlist[k1]])\n",
    "            print tmp\n",
    "            outquery.writelines(tmp+\"\\n\")\n",
    "        outquery.close()\n",
    "    else :\n",
    "        print \"No News Find !\""
   ]
  },
  {
   "cell_type": "code",
   "execution_count": null,
   "metadata": {
    "collapsed": true
   },
   "outputs": [],
   "source": []
  }
 ],
 "metadata": {
  "kernelspec": {
   "display_name": "Python 2",
   "language": "python",
   "name": "python2"
  },
  "language_info": {
   "codemirror_mode": {
    "name": "ipython",
    "version": 2
   },
   "file_extension": ".py",
   "mimetype": "text/x-python",
   "name": "python",
   "nbconvert_exporter": "python",
   "pygments_lexer": "ipython2",
   "version": "2.7.6"
  }
 },
 "nbformat": 4,
 "nbformat_minor": 0
}
